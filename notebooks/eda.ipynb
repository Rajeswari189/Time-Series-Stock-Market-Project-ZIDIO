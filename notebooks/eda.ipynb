{
 "cells": [
  {
   "cell_type": "code",
   "execution_count": null,
   "id": "78030e8d",
   "metadata": {
    "vscode": {
     "languageId": "plaintext"
    }
   },
   "outputs": [],
   "source": [
    "# 1. Import libraries\n",
    "import pandas as pd\n",
    "import matplotlib.pyplot as plt\n",
    "import seaborn as sns\n",
    "\n",
    "# 2. Load dataset\n",
    "df = pd.read_csv('data/nifty50.csv', parse_dates=['Date'], index_col='Date')\n",
    "df = df[['Open', 'High', 'Low', 'Close', 'Volume']]\n",
    "\n",
    "# 3. Check structure\n",
    "df.head()\n",
    "df.info()\n",
    "df.describe()\n",
    "\n",
    "# 4. Plot closing price\n",
    "plt.figure(figsize=(12, 4))\n",
    "plt.plot(df['Close'], label='Close Price')\n",
    "plt.title('NIFTY 50 Closing Price Over Time')\n",
    "plt.xlabel('Date')\n",
    "plt.ylabel('Price')\n",
    "plt.legend()\n",
    "plt.show()\n",
    "\n",
    "# 5. Moving average\n",
    "df['MA50'] = df['Close'].rolling(50).mean()\n",
    "df[['Close', 'MA50']].plot(figsize=(12, 4), title='Moving Average (50 days)')\n",
    "\n",
    "# 6. Volume analysis\n",
    "plt.figure(figsize=(12, 3))\n",
    "sns.lineplot(data=df['Volume'])\n",
    "plt.title('Trading Volume Over Time')\n",
    "plt.show()\n",
    "\n",
    "# 7. Missing values\n",
    "df.isnull().sum()\n",
    "\n",
    "# 8. Decomposition (optional)\n",
    "from statsmodels.tsa.seasonal import seasonal_decompose\n",
    "result = seasonal_decompose(df['Close'], model='multiplicative', period=30)\n",
    "result.plot()\n",
    "plt.show()\n"
   ]
  }
 ],
 "metadata": {
  "language_info": {
   "name": "python"
  }
 },
 "nbformat": 4,
 "nbformat_minor": 5
}
